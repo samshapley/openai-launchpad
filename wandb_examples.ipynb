{
 "cells": [
  {
   "cell_type": "markdown",
   "metadata": {},
   "source": [
    "#### [Weights and Biases](https://www.wandb.com/) is a tool for visualizing and tracking machine learning experiments."
   ]
  },
  {
   "cell_type": "code",
   "execution_count": 1,
   "metadata": {},
   "outputs": [],
   "source": [
    "# Import abilities\n",
    "from ai import Chat, Vision, Audio, Images, Embeddings, FineTuner\n",
    "import wandb\n",
    "import time\n",
    "from wandb_logging import SpanManager\n",
    "\n",
    "# Adjust model globally here or modify in function calls. Vision model cannot be changed, for now ;) \n",
    "model = \"gpt-3.5-turbo-1106\""
   ]
  },
  {
   "cell_type": "markdown",
   "metadata": {},
   "source": [
    "### Weights and Biases x OpenAI-Launchpad"
   ]
  },
  {
   "cell_type": "markdown",
   "metadata": {},
   "source": [
    "Using wandb prompts and traces to visualize the flow in AI systems."
   ]
  },
  {
   "cell_type": "code",
   "execution_count": 4,
   "metadata": {},
   "outputs": [
    {
     "data": {
      "text/html": [
       "Tracking run with wandb version 0.16.1"
      ],
      "text/plain": [
       "<IPython.core.display.HTML object>"
      ]
     },
     "metadata": {},
     "output_type": "display_data"
    },
    {
     "data": {
      "text/html": [
       "Run data is saved locally in <code>/Users/samuel.shapley/projects/openai-launchpad/openai-launchpad/wandb/run-20240105_210944-m423vha3</code>"
      ],
      "text/plain": [
       "<IPython.core.display.HTML object>"
      ]
     },
     "metadata": {},
     "output_type": "display_data"
    },
    {
     "data": {
      "text/html": [
       "Syncing run <strong><a href='https://wandb.ai/samuel-shapley/openai-launchpad/runs/m423vha3' target=\"_blank\">bright-sound-169</a></strong> to <a href='https://wandb.ai/samuel-shapley/openai-launchpad' target=\"_blank\">Weights & Biases</a> (<a href='https://wandb.me/run' target=\"_blank\">docs</a>)<br/>"
      ],
      "text/plain": [
       "<IPython.core.display.HTML object>"
      ]
     },
     "metadata": {},
     "output_type": "display_data"
    },
    {
     "data": {
      "text/html": [
       " View project at <a href='https://wandb.ai/samuel-shapley/openai-launchpad' target=\"_blank\">https://wandb.ai/samuel-shapley/openai-launchpad</a>"
      ],
      "text/plain": [
       "<IPython.core.display.HTML object>"
      ]
     },
     "metadata": {},
     "output_type": "display_data"
    },
    {
     "data": {
      "text/html": [
       " View run at <a href='https://wandb.ai/samuel-shapley/openai-launchpad/runs/m423vha3' target=\"_blank\">https://wandb.ai/samuel-shapley/openai-launchpad/runs/m423vha3</a>"
      ],
      "text/plain": [
       "<IPython.core.display.HTML object>"
      ]
     },
     "metadata": {},
     "output_type": "display_data"
    },
    {
     "name": "stdout",
     "output_type": "stream",
     "text": [
      "\u001b[92mInitalized Audio class.\u001b[0m\n",
      "---------------------------------------------\n",
      "\n",
      "\u001b[92mInitalized Chat class with model gpt-3.5-turbo-1106\u001b[0m\n",
      "---------------------------------------------\n",
      "\n",
      "\u001b[95mMaking Chat Completion API call...\u001b[0m\n",
      "---------------------------------------------\n",
      "\n",
      "Great! Is there anything specific you'd like to test or ask about? I'm here to help!\n",
      "\n",
      "\u001b[95mMaking Chat Completion API call...\u001b[0m\n",
      "---------------------------------------------\n",
      "\n",
      "Got it! Let me know if there's anything specific you'd like to discuss or if you have any questions. I'm here to help!\n",
      "\n",
      "\u001b[95mMaking Chat Completion API call...\u001b[0m\n",
      "---------------------------------------------\n",
      "\n",
      "Understood! If you have any specific questions or need assistance with something, feel free to ask. I'm here to help!\n",
      "\n"
     ]
    },
    {
     "name": "stderr",
     "output_type": "stream",
     "text": [
      "wandb: WARNING Source type is set to 'repo' but some required information is missing from the environment. A job will not be created from this run. See https://docs.wandb.ai/guides/launch/create-job\n"
     ]
    },
    {
     "data": {
      "text/html": [
       " View run <strong style=\"color:#cdcd00\">bright-sound-169</strong> at: <a href='https://wandb.ai/samuel-shapley/openai-launchpad/runs/m423vha3' target=\"_blank\">https://wandb.ai/samuel-shapley/openai-launchpad/runs/m423vha3</a><br/>Synced 5 W&B file(s), 0 media file(s), 0 artifact file(s) and 0 other file(s)"
      ],
      "text/plain": [
       "<IPython.core.display.HTML object>"
      ]
     },
     "metadata": {},
     "output_type": "display_data"
    },
    {
     "data": {
      "text/html": [
       "Find logs at: <code>./wandb/run-20240105_210944-m423vha3/logs</code>"
      ],
      "text/plain": [
       "<IPython.core.display.HTML object>"
      ]
     },
     "metadata": {},
     "output_type": "display_data"
    }
   ],
   "source": [
    "wb = SpanManager(name=\"system\")\n",
    "\n",
    "wandb.init(project=\"openai-launchpad\") ## Initialize wandb project\n",
    "\n",
    "audio = Audio()\n",
    "chat = Chat(model=model, system=\"Helpful assistant.\")\n",
    "\n",
    "chain_name = \"conversation\"\n",
    "\n",
    "agent_name = \"agent\"\n",
    "\n",
    "agent_span = wb.wandb_span(span_kind = \"agent\", span_name=agent_name, parent_span_id=None, span_id=\"test-agent\")\n",
    "\n",
    "chain_span = wb.wandb_span(span_kind = \"chain\", span_name=chain_name, parent_span_id=agent_span)\n",
    "\n",
    "for i in range(3):\n",
    "\n",
    "    # transcript = audio.record_and_transcribe()\n",
    "    transcript = \"This is a test.\"\n",
    "    time.sleep(1)\n",
    "\n",
    "    transcript_span = wb.wandb_span(\n",
    "        span_kind=\"tool\",\n",
    "        span_name=\"transcription\",\n",
    "        parent_span_id=chain_span,\n",
    "        inputs={\"audio\": \"audio\"},\n",
    "        outputs={\"transcript\": transcript},\n",
    "    )\n",
    "\n",
    "    if \"quit\" in transcript:\n",
    "        break\n",
    "\n",
    "    completion, messages = chat.chat_completion(transcript, speak=False, stream=True, memories=True)\n",
    "\n",
    "    # Log the LLM used.\n",
    "    llm_span = wb.wandb_span(\n",
    "        span_kind=\"llm\",\n",
    "        span_name=\"chat\",\n",
    "        parent_span_id = chain_span,\n",
    "        inputs={\"transcript\": transcript},\n",
    "        outputs={\"completion\": completion, \"messages\": messages},\n",
    "        metadata={\"model\": model},\n",
    "    )\n",
    "\n",
    "    voice = \"echo\"\n",
    "    # audio.speak(completion, voice=voice)\n",
    "    time.sleep(2)\n",
    "\n",
    "    # Log the speech span.\n",
    "    speech_span = wb.wandb_span(\n",
    "        span_kind=\"tool\",\n",
    "        span_name=\"speech\",\n",
    "        parent_span_id = agent_span,\n",
    "        inputs={\"completion\": completion},\n",
    "        outputs={\"tool\": \"Completion spoken.\"},\n",
    "        metadata={\"voice\": voice}\n",
    "    )\n",
    "\n",
    "wb.log_top_level_span()\n",
    "\n",
    "# End wandb run\n",
    "wandb.finish()"
   ]
  }
 ],
 "metadata": {
  "kernelspec": {
   "display_name": "openai-launchpad",
   "language": "python",
   "name": "python3"
  },
  "language_info": {
   "codemirror_mode": {
    "name": "ipython",
    "version": 3
   },
   "file_extension": ".py",
   "mimetype": "text/x-python",
   "name": "python",
   "nbconvert_exporter": "python",
   "pygments_lexer": "ipython3",
   "version": "3.11.5"
  }
 },
 "nbformat": 4,
 "nbformat_minor": 2
}
