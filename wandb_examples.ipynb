{
 "cells": [
  {
   "cell_type": "markdown",
   "metadata": {},
   "source": [
    "#### [Weights and Biases](https://www.wandb.com/) is a tool for visualizing and tracking machine learning experiments."
   ]
  },
  {
   "cell_type": "code",
   "execution_count": 1,
   "metadata": {},
   "outputs": [],
   "source": [
    "# Import abilities\n",
    "from ai import Chat, Vision, Audio, Images, Embeddings, FineTuner\n",
    "import powers\n",
    "import wandb\n",
    "import time\n",
    "from wandb.sdk.data_types.trace_tree import Trace\n",
    "from datetime import datetime\n",
    "\n",
    "# Adjust model globally here or modify in function calls. Vision model cannot be changed, for now ;) \n",
    "model = \"gpt-3.5-turbo-1106\""
   ]
  },
  {
   "cell_type": "code",
   "execution_count": 2,
   "metadata": {},
   "outputs": [],
   "source": [
    "def wandb_chain(chain_name, parent_span=None, root_span=None):\n",
    "\n",
    "    end_time_ms = round(time.time() * 1000) # end time is now\n",
    "\n",
    "    # Ensure contiguous spans.\n",
    "    if parent_span:\n",
    "        start_time_ms = parent_span.end_time_ms # start time is end time of parent span\n",
    "    elif root_span and not parent_span:\n",
    "        start_time_ms = root_span.end_time_ms   # start time is end time of root span\n",
    "    else:\n",
    "        start_time_ms = end_time_ms             # start time is now\n",
    "\n",
    "    chain_span = Trace(\n",
    "        name=chain_name,\n",
    "        kind=\"chain\",\n",
    "        start_time_ms=start_time_ms,\n",
    "        end_time_ms=end_time_ms,\n",
    "    )\n",
    "\n",
    "    if parent_span:\n",
    "        parent_span.add_child(chain_span)       # add chain span as child of parent span.\n",
    "        parent_span.end_time_ms = end_time_ms   # end time of parent span updated to end time of chain span.\n",
    "    if not parent_span and root_span:\n",
    "        root_span.add_child(chain_span)         # add chain span as direct child of root span.\n",
    "        root_span.end_time_ms = end_time_ms     # end time of root span updated to end time of chain span.\n",
    "    if not parent_span and not root_span: \n",
    "        root_span = chain_span                  # if no parent or root span, chain span is root span.\n",
    "\n",
    "    return chain_span, parent_span, root_span\n",
    "\n",
    "def wandb_llm(llm_name, inputs, outputs, parent_span=None, root_span=None, status=\"success\", metadata=None):\n",
    "\n",
    "    if root_span is None:\n",
    "        Exception(\"Root span must be specified for LLM spans\")\n",
    "\n",
    "    end_time_ms = round(time.time() * 1000)\n",
    "\n",
    "    # Ensure contiguous spans.\n",
    "    if parent_span:\n",
    "        start_time_ms = parent_span.end_time_ms  # start time is end time of parent span.\n",
    "    elif root_span and not parent_span:\n",
    "        start_time_ms = root_span.end_time_ms    # start time is end time of root span.\n",
    "        \n",
    "    llm_span = Trace(\n",
    "        name=llm_name,\n",
    "        kind=\"llm\",\n",
    "        status_code=status,\n",
    "        start_time_ms=start_time_ms,\n",
    "        end_time_ms=end_time_ms,\n",
    "        inputs=inputs,\n",
    "        outputs=outputs,\n",
    "        metadata=metadata or {}\n",
    "    )\n",
    "\n",
    "    if parent_span:\n",
    "        parent_span.add_child(llm_span)         # add llm span as child of parent span.\n",
    "        parent_span.end_time_ms = end_time_ms   # end time of parent span updated to end time of llm span.\n",
    "    if not parent_span and root_span:\n",
    "        root_span.add_child(llm_span)           # add llm span as direct child of root span.\n",
    "\n",
    "    root_span.end_time_ms = end_time_ms         # the root_span's end time is updated.\n",
    "\n",
    "    return llm_span, parent_span, root_span\n",
    "\n",
    "def wandb_tool(tool_name, inputs, outputs, parent_span=None, root_span=None, status=\"success\", metadata=None):\n",
    "\n",
    "    if root_span is None:\n",
    "        Exception(\"Root span must be specified for tool spans\")\n",
    "\n",
    "    end_time_ms = round(time.time() * 1000)\n",
    "\n",
    "    # Ensure contiguous spans.\n",
    "    if parent_span:\n",
    "        start_time_ms = parent_span.end_time_ms  # start time is end time of parent span.\n",
    "    elif root_span and not parent_span: \n",
    "        start_time_ms = root_span.end_time_ms    # start time is end time of root span.\n",
    "\n",
    "    tool_span = Trace(\n",
    "        name=tool_name,\n",
    "        kind=\"tool\",\n",
    "        status_code=status,\n",
    "        start_time_ms=start_time_ms,\n",
    "        end_time_ms=end_time_ms,\n",
    "        inputs=inputs,\n",
    "        outputs=outputs,\n",
    "        metadata=metadata or {}\n",
    "    )\n",
    "\n",
    "    if parent_span:\n",
    "        parent_span.add_child(tool_span)       # add tool span as child of parent span.\n",
    "        parent_span.end_time_ms = end_time_ms  # end time of parent span updated to end time of tool span.\n",
    "    if not parent_span and root_span:\n",
    "        root_span.add_child(tool_span)         # add tool span as direct child of root span.\n",
    "\n",
    "    root_span.end_time_ms = end_time_ms        # the root_span's end time is updated.\n",
    "    return tool_span, parent_span, root_span\n"
   ]
  },
  {
   "cell_type": "markdown",
   "metadata": {},
   "source": [
    "### Weights and Biases x OpenAI-Launchpad"
   ]
  },
  {
   "cell_type": "markdown",
   "metadata": {},
   "source": [
    "Using wandb prompts and traces to visualize the flow in AI systems."
   ]
  },
  {
   "cell_type": "code",
   "execution_count": 3,
   "metadata": {},
   "outputs": [
    {
     "name": "stderr",
     "output_type": "stream",
     "text": [
      "Failed to detect the name of this notebook, you can set it manually with the WANDB_NOTEBOOK_NAME environment variable to enable code saving.\n"
     ]
    },
    {
     "name": "stdout",
     "output_type": "stream",
     "text": [
      "\u001b[92mInitalized Audio class.\u001b[0m\n",
      "---------------------------------------------\n",
      "\n",
      "\u001b[92mInitalized Chat class with model gpt-3.5-turbo-1106\u001b[0m\n",
      "---------------------------------------------\n",
      "\n"
     ]
    },
    {
     "name": "stderr",
     "output_type": "stream",
     "text": [
      "\u001b[34m\u001b[1mwandb\u001b[0m: Currently logged in as: \u001b[33msamuel-shapley\u001b[0m. Use \u001b[1m`wandb login --relogin`\u001b[0m to force relogin\n"
     ]
    },
    {
     "data": {
      "text/html": [
       "Tracking run with wandb version 0.16.1"
      ],
      "text/plain": [
       "<IPython.core.display.HTML object>"
      ]
     },
     "metadata": {},
     "output_type": "display_data"
    },
    {
     "data": {
      "text/html": [
       "Run data is saved locally in <code>/Users/samuel.shapley/projects/openai-launchpad/openai-launchpad/wandb/run-20240103_230402-9wonmoxk</code>"
      ],
      "text/plain": [
       "<IPython.core.display.HTML object>"
      ]
     },
     "metadata": {},
     "output_type": "display_data"
    },
    {
     "data": {
      "text/html": [
       "Syncing run <strong><a href='https://wandb.ai/samuel-shapley/openai-launchpad/runs/9wonmoxk' target=\"_blank\">rich-glitter-83</a></strong> to <a href='https://wandb.ai/samuel-shapley/openai-launchpad' target=\"_blank\">Weights & Biases</a> (<a href='https://wandb.me/run' target=\"_blank\">docs</a>)<br/>"
      ],
      "text/plain": [
       "<IPython.core.display.HTML object>"
      ]
     },
     "metadata": {},
     "output_type": "display_data"
    },
    {
     "data": {
      "text/html": [
       " View project at <a href='https://wandb.ai/samuel-shapley/openai-launchpad' target=\"_blank\">https://wandb.ai/samuel-shapley/openai-launchpad</a>"
      ],
      "text/plain": [
       "<IPython.core.display.HTML object>"
      ]
     },
     "metadata": {},
     "output_type": "display_data"
    },
    {
     "data": {
      "text/html": [
       " View run at <a href='https://wandb.ai/samuel-shapley/openai-launchpad/runs/9wonmoxk' target=\"_blank\">https://wandb.ai/samuel-shapley/openai-launchpad/runs/9wonmoxk</a>"
      ],
      "text/plain": [
       "<IPython.core.display.HTML object>"
      ]
     },
     "metadata": {},
     "output_type": "display_data"
    },
    {
     "name": "stdout",
     "output_type": "stream",
     "text": [
      "\u001b[95mMaking Chat Completion API call...\u001b[0m\n",
      "---------------------------------------------\n",
      "\n",
      "It looks like everything is working perfectly, how can I help you with today?\n",
      "\n",
      "\u001b[95mMaking Chat Completion API call...\u001b[0m\n",
      "---------------------------------------------\n",
      "\n",
      "It seems like everything is working fine. How may I assist you today?\n",
      "\n",
      "\u001b[95mMaking Chat Completion API call...\u001b[0m\n",
      "---------------------------------------------\n",
      "\n",
      "It looks like everything is working correctly. How can I assist you today?\n",
      "\n",
      "\u001b[95mMaking Chat Completion API call...\u001b[0m\n",
      "---------------------------------------------\n",
      "\n",
      "It seems like everything is working properly. How can I assist you today?\n",
      "\n",
      "\u001b[95mMaking Chat Completion API call...\u001b[0m\n",
      "---------------------------------------------\n",
      "\n",
      "It looks like everything is functioning as expected. How can I assist you further?\n",
      "\n"
     ]
    },
    {
     "name": "stderr",
     "output_type": "stream",
     "text": [
      "wandb: WARNING Source type is set to 'repo' but some required information is missing from the environment. A job will not be created from this run. See https://docs.wandb.ai/guides/launch/create-job\n"
     ]
    },
    {
     "data": {
      "text/html": [
       " View run <strong style=\"color:#cdcd00\">rich-glitter-83</strong> at: <a href='https://wandb.ai/samuel-shapley/openai-launchpad/runs/9wonmoxk' target=\"_blank\">https://wandb.ai/samuel-shapley/openai-launchpad/runs/9wonmoxk</a><br/>Synced 5 W&B file(s), 0 media file(s), 0 artifact file(s) and 0 other file(s)"
      ],
      "text/plain": [
       "<IPython.core.display.HTML object>"
      ]
     },
     "metadata": {},
     "output_type": "display_data"
    },
    {
     "data": {
      "text/html": [
       "Find logs at: <code>./wandb/run-20240103_230402-9wonmoxk/logs</code>"
      ],
      "text/plain": [
       "<IPython.core.display.HTML object>"
      ]
     },
     "metadata": {},
     "output_type": "display_data"
    }
   ],
   "source": [
    "audio = Audio()\n",
    "chat = Chat(model=model, system=\"Helpful assistant.\")\n",
    "\n",
    "wandb.init(project=\"openai-launchpad\") ## Initialize wandb project\n",
    "\n",
    "chain_name = \"conversation\"\n",
    "\n",
    "chain_span, parent_span, root_span = wandb_chain(chain_name=chain_name, parent_span=None, root_span=None)\n",
    "\n",
    "for i in range(5):\n",
    "\n",
    "    # transcript = audio.record_and_transcribe()\n",
    "    transcript = \"This is a test.\"\n",
    "    time.sleep(1)\n",
    "\n",
    "    transcript_span, chain_span, root_span = wandb_tool(\n",
    "        tool_name=\"transcription\",\n",
    "        inputs={\"audio\": \"audio\"},\n",
    "        outputs={\"transcript\": transcript},\n",
    "        parent_span=chain_span,\n",
    "        root_span=root_span,\n",
    "    )\n",
    "\n",
    "    transcript_span.log(name=chain_name)\n",
    "\n",
    "\n",
    "    if \"quit\" in transcript:\n",
    "        break\n",
    "\n",
    "    completion, messages = chat.chat_completion(transcript, speak=False, stream=True, memories=True)\n",
    "\n",
    "    # Log the LLM span using the log_llm_span function.\n",
    "    llm_span, _,  chain_span = wandb_llm(\n",
    "        llm_name=\"chat\",\n",
    "        inputs={\"transcript\": transcript},\n",
    "        outputs={\"completion\": completion, \"messages\": messages},\n",
    "        parent_span=None,\n",
    "        root_span=chain_span,\n",
    "    )\n",
    "\n",
    "    voice = \"echo\"\n",
    "    # audio.speak(completion, voice=voice)\n",
    "    time.sleep(2)\n",
    "\n",
    "    # Log the speech tool span using the log_tool_span function.\n",
    "    speech_span, _ , chain_span = wandb_tool(\n",
    "        tool_name=\"speech\",\n",
    "        inputs={\"completion\": completion},\n",
    "        outputs={\"tool\": \"Completion spoken.\"},\n",
    "        parent_span=llm_span,\n",
    "        root_span=chain_span,\n",
    "        metadata={\"voice\": voice}\n",
    "    )\n",
    "\n",
    "    speech_span.log(name=chain_name)\n",
    "\n",
    "    llm_span.log(name=chain_name)\n",
    "\n",
    "conversation_end_time_ms = round(datetime.now().timestamp() * 1000)\n",
    "chain_span.end_time_ms = conversation_end_time_ms\n",
    "chain_span.log(name=chain_name)\n",
    "\n",
    "# End wandb run\n",
    "wandb.finish()"
   ]
  },
  {
   "cell_type": "code",
   "execution_count": null,
   "metadata": {},
   "outputs": [],
   "source": []
  }
 ],
 "metadata": {
  "kernelspec": {
   "display_name": "openai-launchpad",
   "language": "python",
   "name": "python3"
  },
  "language_info": {
   "codemirror_mode": {
    "name": "ipython",
    "version": 3
   },
   "file_extension": ".py",
   "mimetype": "text/x-python",
   "name": "python",
   "nbconvert_exporter": "python",
   "pygments_lexer": "ipython3",
   "version": "3.11.5"
  }
 },
 "nbformat": 4,
 "nbformat_minor": 2
}
